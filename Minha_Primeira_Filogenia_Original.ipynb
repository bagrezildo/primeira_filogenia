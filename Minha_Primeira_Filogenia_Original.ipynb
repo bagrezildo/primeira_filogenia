{
  "cells": [
    {
      "cell_type": "markdown",
      "metadata": {
        "id": "view-in-github",
        "colab_type": "text"
      },
      "source": [
        "<a href=\"https://colab.research.google.com/github/bagrezildo/primeira_filogenia/blob/main/Minha_Primeira_Filogenia_Original.ipynb\" target=\"_parent\"><img src=\"https://colab.research.google.com/assets/colab-badge.svg\" alt=\"Open In Colab\"/></a>"
      ]
    },
    {
      "cell_type": "markdown",
      "source": [
        "**Minha Primeiroa Filogenia: Uma Introdução à Análise Filogenética**\n",
        "---\n",
        "\n",
        "Por:\n",
        "- **Lucas Freitas (BioME/IMD/UFRN)**\n",
        "- **Matheus Miguel Lima (BioME/IMD/UFRN)**"
      ],
      "metadata": {
        "id": "pfnIat-XS8hg"
      }
    },
    {
      "cell_type": "markdown",
      "source": [
        "# Prática 1: Conhecendo e resgatando sequências\n",
        "\n",
        "A filogenia é uma prática que comumente utiliza dados de diferentes pesquisadores. Junto a isso, o rápido crescimento do volume de dados de sequências, faz necessário a utilização de bancos de dados digitais. Esses bancos de dados muitas vezes possuem poderosas ferramentas de pesquisa e são referenciados em outros bancos, e muitas vezes essas sequências estão associadas a metadados, os que chamamos **anotação**. A anotação muitas vezes descreve as características biológicas da sequência, mas também de qual organismo e tipo de célula essa sequência foi retirada, qual técnica de sequênciamento foi utilizada, de onde e de que forma foi isolada, entre outros dados.\n",
        "\n",
        "Existem bancos de dados especializados nos mais diversos tipos de sequências e organismos, como o Influenza Research Database (IRD) que contem sequencias de Influenza, e bancos de dados mais gerais, como o [NCBI](https://www.ncbi.nlm.nih.gov/) e o [Ensembl](https://www.ensembl.org/index.html).\n",
        "\n",
        "Vamos entrar no [NCBI](https://www.ncbi.nlm.nih.gov/) e pesquisar por \"rpob\".\n",
        "\n",
        "Que tipos de dados estão disponíveis?\n",
        "\n",
        "O NCBI é um conjunto de banco de dados referenciados de forma cruzada. Explore um pouco os bancos de dados, tente entender como eles funcionam e descubra qual é o gene rpoB.\n",
        "\n",
        "Agora pesquise por \"cytb human\". Vamos resgatar a sequência de nucleotídeos desse gene.\n",
        "\n",
        "<image src='https://drive.google.com/uc?id=1zk4tabTBmQpM0pGF5TJfKf1647NlwkkV'>\n",
        "<image src='https://drive.google.com/uc?id=13L_hqt7Q0BJyVrISabVljRiWNYfDcmUg'>\n",
        "<image src='https://drive.google.com/uc?id=18OA1DuHoIPbNQspm_GAc1RWPm0ml0SWs'>\n",
        "\n",
        "\n",
        "\n",
        "\n"
      ],
      "metadata": {
        "id": "FxBQM2-nhikT"
      }
    },
    {
      "cell_type": "markdown",
      "source": [
        "Pronto, agora temos a sequência de nucleotídeos do citocromo b humano. Copie e cole aqui:\n",
        "```\n",
        "Cole aqui a sequência\n",
        "```\n",
        "---"
      ],
      "metadata": {
        "id": "qf4fJHsnA8Rz"
      }
    },
    {
      "cell_type": "markdown",
      "source": [
        "Vamos ver se encontramos sequências parecidas? Vamos utilizar o [BLAST](https://blast.ncbi.nlm.nih.gov/Blast.cgi) para isso.\n",
        "\n",
        "<image src='https://drive.google.com/uc?id=1TYISOd9uEAuxzxs_NomDQOtMlPGpN5_s'>\n",
        "\n",
        "O Blast é um alinhador que busca a sequência dada, ou conjunto de sequências, dentro da base do NCBI. Ele também pode ser usado localmente via linha de comando com um banco de dados que você pode construir. Existem diversos tipos de blast, como de nucleotideos, de proteinas, de proteinas para nucleotideo, de nucleotideo para proteinas.\n",
        "\n",
        "\n",
        "\n",
        "Vamos fazer um Nucleotide BLAST com a sequência CYTB que acabamos de pegar.\n",
        "\n",
        "<image src='https://drive.google.com/uc?id=1Q3c6dBcs9OqBwiuRtnIiCgoKi4lS6Eme'>\n",
        "\n",
        "Role até o fim da página, e clique em \"BLAST\". Não precisa alterar nenhuma configuração. Analise a página de resultado, tente entendê-la. Achou alguma coisa interessante?"
      ],
      "metadata": {
        "id": "TNpjWAsNBIBN"
      }
    },
    {
      "cell_type": "markdown",
      "source": [
        "Agora vamos construir o arquivo que será utilizado nessa prática. Como fizemos com o CYTB humano, vamos buscar as sequencias desse gene de outros primatas. Pesquisem \"cytb [organismo] \" para os seguintes primatas e coloquem em um arquivo txt as sequências:\n",
        "\n",
        "```\n",
        "bonobo\n",
        "chimp\n",
        "gorilla\n",
        "orangutan\n",
        "siamang\n",
        "```\n",
        "\n",
        "As sequências podem estar em formato FASTA, NEXUS, CLUSTALW, PHILLIP. O formato fasta é dessa forma, e é o que temos utilizado. Construa um arquivo nesse modelo e salve como \"apes.fasta\". Não esqueça de incluir a sequência de humano.\n",
        "```\n",
        ">bonobo       \n",
        "AAATTTGGTCCTGTGATTCAGCAGTGAT\n",
        ">chimpanze     \n",
        "CTTCCACACCCCAGGACTCAGCAGTGAT\n",
        ">gorilla       \n",
        "CTACCACACCCCAGGACTCAGCAGTAAT\n",
        ">human      \n",
        "CTACCACACCCCAGGAAACAGCAGTGAT\n",
        ">orangutango        \n",
        "CTACCACACCCCAGGAAACAGCAGTGAC\n",
        ">gibao      \n",
        "CTACCACGCCCCAGGACACAGCAGTGAT\n",
        "\n",
        "```\n",
        "\n",
        "\n"
      ],
      "metadata": {
        "id": "FeeDqDAwsur5"
      }
    },
    {
      "cell_type": "markdown",
      "source": [
        "Caso não encontrem as sequências, aqui está o link de cada uma:\n",
        "\n",
        "[bonobo](https://www.ncbi.nlm.nih.gov/nuccore/NC_001644.1?report=fasta&from=14166&to=15306)\n",
        "\n",
        "[chimpanze](https://www.ncbi.nlm.nih.gov/nuccore/NC_001643.1?report=fasta&from=14165&to=15305)\n",
        "\n",
        "[humano](https://www.ncbi.nlm.nih.gov/nuccore/NC_012920.1?report=fasta&from=14747&to=15887)\n",
        "\n",
        "[gorila](https://www.ncbi.nlm.nih.gov/nuccore/NC_001645.1?report=fasta&from=14169&to=15309)\n",
        "\n",
        "[orangotango](https://www.ncbi.nlm.nih.gov/nuccore/NC_001646.1?report=fasta&from=14191&to=15331)\n",
        "\n",
        "[gibão](https://www.ncbi.nlm.nih.gov/nuccore/NC_014047.1?report=fasta&from=14175&to=15315)\n",
        "\n",
        "Aqui você pode baixar o arquivo pronto: [apes.fasta](https://drive.google.com/file/d/1lHzXUdtdgfhVGEp6wNu0ii2MqMC2K0Uv/view?usp=drive_link)"
      ],
      "metadata": {
        "id": "950SFdLirmgm"
      }
    },
    {
      "cell_type": "markdown",
      "source": [
        "Existem diversos programas em que podemos visualizar, analizar, alinhar, manipular (e vários outros verbos terminados em -ar) sequências, como o Aliview, Jalview, Clustal X, BioEdit, MEGA, entre outros.\n",
        "\n",
        "O MEGA é um software muito robusto, que permite criar arquivos, converter, visualizar, analizar, alinhar, e realizar diversas análises. Vamos utilizar-lo um pouco. Abram a sequência 'apes.fasta' no MEGA.\n",
        "<image src='https://drive.google.com/uc?id=179JG3IxUWULK0ZPqCp32YBrPcf7zceZD'>\n",
        "<image src='https://drive.google.com/uc?id=1d7sG31ZuLiDFXSN4IQXbwU2-4VgoPqzA'>\n",
        "<image src='https://drive.google.com/uc?id=1wOnsIiKVjpwrsnYDyAL6Gd8qhdkbYvsy'>\n",
        "<image src='https://drive.google.com/uc?id=1xjlDkJsW8gSquCsa3fUYZujTTMb_nnb5'>\n",
        "<image src='https://drive.google.com/uc?id=1FqBcy6v_mIL3TBS7yppLm-UVeFf-m_x5'>\n",
        "\n",
        "Explorem um pouco as opções, tentem entender o que pode ser feito e o que pode ser inferido.\n",
        "\n",
        "Vamos fazer o alinhamento dessas sequências. O alinhamento pode ser feito usando diversos programas, como o [MAFFT](https://mafft.cbrc.jp/alignment/server/index.html) que tem uma ferramenta online, mas vamos utilizar o MEGA.\n",
        "<image src='https://drive.google.com/uc?id=1ULPtgPs_mAWSBOoQzA5DoaEZc0iXFD-Y'>\n",
        "<image src='https://drive.google.com/uc?id=1U9urEfI0eCUazYhv9FPI0jo-lk3ye9gL'>\n",
        "<image src='https://drive.google.com/uc?id=tBsgTcMhqHf97OG8VhQO4dHgLU5Dohfm'>\n",
        "\n",
        "\n",
        "\n",
        "Analizem as opções, vejam o que pode ser feito. Vamos alinhar as nossas sequências utilizando o Muscle, que é um dos algoritmos possíveis. Após realizarem o alinhamento, salvem esse alinhamento com o nome 'apes_alinhado.fasta', e exportem no formato Nexus, vamos utiliza-los mais na frente.\n",
        "\n",
        "<image src='https://drive.google.com/uc?id=1T1-U1Nw2ODNXEsD2iP4wL9Uw-1f3AtbN'>\n",
        "\n",
        "<image src='https://drive.google.com/uc?id=1mQtb9LG6xoCn04CI34dFn9leGpi6PJDu'>\n",
        "<image src='https://drive.google.com/uc?id=12E-8vD2TY-1Cqd_Zy6ezJ1WUCDuPv4y8'>"
      ],
      "metadata": {
        "id": "y2Hzqvx13CmP"
      }
    },
    {
      "cell_type": "code",
      "source": [
        "#example.phy\n",
        "https://drive.google.com/file/d/1e_uDt577_CPUNmCnHv8h9cVj-c-Sg6-4/view?usp=drive_link"
      ],
      "metadata": {
        "id": "ZAa9saIji9Fw"
      },
      "execution_count": null,
      "outputs": []
    },
    {
      "cell_type": "code",
      "source": [
        "#apes.nex\n",
        "https://drive.google.com/file/d/1Vau7oHN7QKAYcrCKsgJ_Pdl1MLT0AlRi/view?usp=drive_link"
      ],
      "metadata": {
        "id": "5-0DV2LGzJUx"
      },
      "execution_count": null,
      "outputs": []
    },
    {
      "cell_type": "markdown",
      "source": [
        "# Prática 2: IQ-TREE, visualização e minha primeira filogenia\n",
        "<image src='https://drive.google.com/uc?id=1o8uNssM1HBN5fKsgzET6P1-iHQM6KxJm'>\n"
      ],
      "metadata": {
        "id": "wGnUityVNtWL"
      }
    },
    {
      "cell_type": "markdown",
      "source": [
        "\n",
        "\n",
        "O IQ-TREE, é um software robusto e simples de ser usado, que pode ser utilizado para diversas análises envolvendo o método de máxima verossimilhança. Vamos utilizar o arquivo 'apes_alinhado.nex' que exportamos da última prática. (Você pode baixa-lo [aqui](https://drive.google.com/file/d/19LiL0j2L6LKEud-TJT4xs9weFhyE0WVA/view?usp=sharing))\n",
        "\n",
        "Vamos utilizar o IQ-TREE para construir uma árvore de máxima verossimilhança utilizando o nosso alinhamento de primatas. Vamos testar o programa. Abra o terminal e digite:\n",
        "```\n",
        "iqtree -h\n",
        "```\n",
        "No seu terminal deve aparecer as informações de ajuda do software, nele podemos saber os comandos para realizar as principais análises. Agora vamos realizar a nossa primeira análise.\n",
        "\n",
        "Crie uma pasta e coloque o alinhamento nela:\n",
        "```\n",
        "mkdir filogenia\n",
        "cd filogenia\n",
        "```\n",
        "\n",
        "Para realizar a análise básica, execute o comando:\n",
        "```\n",
        "iqtree -s apes_alinhado.nexus\n",
        "```\n",
        "\n",
        "Já temos nossa primeira análise! Durante a execução já podemos ver diversas informações, mas vamos abrir o arquivo .iqtree, que vai ser o relatório completo. Execute:\n",
        "```\n",
        "cat apes_alinhado.nexus.iqtree\n",
        "```\n",
        "\n",
        "Podemos ver todas as estatísticas do alinhamento, assim como o melhor modelo de substituição e como fica a árvore desse alinhamento. Parabéns! Você fez a sua primeira filogenia. :)\n",
        "\n",
        "Dê uma olhada no relatório, tente entedê-lo. Qual foi o melhor de substituição? Segundo qual parâmetro?\n",
        "\n",
        "Mas pelo terminal é ruim de visualizar, vamos abrir a árvore no FigTree. Abra um novo terminal e execute:\n",
        "```\n",
        "figtree\n",
        "```\n",
        "<image src='https://drive.google.com/uc?id=1go4YCBuQsNXodoMU4_3rOjSplZzxMh3m'>\n",
        "\n",
        "Agora vamos refazer a nossa analize utilizando o ultrafast bootstrap, execute:\n",
        "```\n",
        "iqtree -s apes_alinhado.nexus --prefix apes_aln_model_bt1000 -m TPM2+F+G4 -B 1000\n",
        "```\n",
        "\n",
        "Vamos visualizar o relatório dessa corrida, e vamos também visualizar no FigTree:\n",
        "```\n",
        "cat apes_aln_model_bt1000.iqtree\n",
        "```"
      ],
      "metadata": {
        "id": "MPnkD-SIUHvi"
      }
    },
    {
      "cell_type": "markdown",
      "source": [
        "# Prática 3: Análise Bayesiana com BEAST2\n",
        "\n",
        "<image src='https://drive.google.com/uc?id=1K3ndJ0JFjzHYNpnVfTFGoByGwAfHhN1U'>"
      ],
      "metadata": {
        "id": "M0Ha9mrSLPga"
      }
    },
    {
      "cell_type": "markdown",
      "source": [
        "##Abrindo alinhamento no beauti\n",
        "\n",
        "Abra o beauti no seu computador indo para a pasta do beast ou somente utilizando o seguinte comando no seu terminal:\n",
        "```\n",
        "beauti\n",
        "```\n",
        "\n",
        "Em seguida, importe o alinhamento produzido pelo mega em formato Nexus\n",
        "\n",
        "<image src='https://drive.google.com/uc?id=1pGgAi4Zaqsun_kNbmAIeTyIuLJtENhFQ'>"
      ],
      "metadata": {
        "id": "22zWIqv7ne4e"
      }
    },
    {
      "cell_type": "markdown",
      "source": [
        "##Escolhendo o modelo de substituição\n",
        "\n",
        "Para o exemplo vamos selecionar o modelo de substituição HKY com 4 categorias gama.\n",
        "<image src='https://drive.google.com/uc?id=1wVqdwP3HEy9xchpIeTEq6XueSN0NlwSa'>"
      ],
      "metadata": {
        "id": "d-ZaBv-cSeql"
      }
    },
    {
      "cell_type": "markdown",
      "source": [
        "##Escolhendo modelo do relógio molecular\n",
        "\n",
        "Tenha sempre em mente que esse parâmetro depende da escala de sua filogenia. Quando comparando organismos muito distante filogeneticamente é mais provável que as taxas de evolução variem em diferentes ramos da sua árvore, se tornando mais adequado o modelo relaxed clock. Quando analisando, por exemplo, um genero de irradiação adapatativa recente pode ser mais interessante utilizar o modelo de strict clock.\n",
        "\n",
        "Em ocasiões onde não se sabe muito biologicamente sobre o dado, mas você possui um bom número de mutações e táxons, é recomendado fazer análises exploratórias com o modelo de relaxed clock e avaliar como está sendo estimado o parâmetro coefficient of variation. Se a distribuição cai em cima do valor de zero, então existe um bom suporte para o modelo de strict clock, caso contrário é recomendado continuar com o relaxed clock.\n",
        "\n",
        "<image src='https://drive.google.com/uc?id=1_NQ-XF-ozjld4HjJt1vwoXYEeqk31Zst'>\n"
      ],
      "metadata": {
        "id": "lH7C2ZYOCJjd"
      }
    },
    {
      "cell_type": "markdown",
      "source": [
        "##Priores sobre os modelos\n",
        "Dentre as priores disponíveis para seleção no beast, temos alguns modelos evolutivos que podem ou não se adequar à realidade de sua análise.\n",
        "\n",
        "De forma geral, esses modelos são divididos em modelos de especiação e modelos de diversificação populacionais. Para ilustrar um pouco sobre a seleção de priores: O modelo de Yule, que vamos utilizar neste exemplo, não leva em conta processos de extinção (modelo de nascimento puro), o que significa que todas as possíveis linhagens eventualmente levam a uma espécie existente.\n",
        "\n",
        "O modelo de yule faz parte da classe mais adequado para estudos de especiação. Para estudos com gêneros de diversificação recente, estudos intrapopulacionais ou estudos com organismos de alta taxa de evolução como vírus são mais adequados modelos de coalescência que também estão definidos entre os modelos disponíveis.\n",
        "\n",
        "Para uma análise inicial, podemos deixar as distribuições de todos os parâmetros a serem estimados no default, no entanto tenha em mente que para uma análise mais minunciosa onde o algorítmo tenha problemas de convergência, pode ser necessário testar diferentes distribuições com corridas independentes.\n",
        "\n",
        "<image src='https://drive.google.com/uc?id=1XuM6XDlyEzn5ITGRtgissmMeLIUQqDXU'>"
      ],
      "metadata": {
        "id": "1bkTHfuRFBG0"
      }
    },
    {
      "cell_type": "markdown",
      "source": [
        "##Configurando a cadeia MCMC\n",
        "\n",
        "Para esta análise vamos rodar a cadeia de markov com 10 milhões de gerações. Nas abas de tracelog, screenlog e treelog mantenha os valores de amostragens a cada 1000 gerações, dessa forma conseguiremos observar bem a convergência dos parâmetros quando formos analisar os resultados com o Tracer.\n",
        "\n",
        "<image src='https://drive.google.com/uc?id=1vzmnpKTh5MeIaqInVvSukLbyc1B5ynSv'>\n",
        "\n",
        "Uma vez que você finalizou as configurações com o Beauti, pode clicar em fechar a janela e clicar em salvar. Pode selecionar o caminho para a pasta \"filogenia\" gerada anteriormente e nomear o arquivo como \"apes.xml\""
      ],
      "metadata": {
        "id": "3YYZxbhjFTp5"
      }
    },
    {
      "cell_type": "markdown",
      "source": [
        "##Rodando no beast\n",
        "\n",
        "Para rodar a nossa análise uma vez que o arquivo xml está criado basta ir para a pasta onde o arquivo está salvo e rodar o seguinte comando em seu terminal\n",
        "\n",
        "```\n",
        "beast -beagle apes.xml\n",
        "```\n",
        "\n",
        "Caso seu computador não tenha uma capacidade de processamento tão alta, pode levar um tempo (+/- 10 minutos). Caso o tempo esteja curto podemos disponibilizar os arquivos necessários para as próximas etapas, no mais... Tome um café! 🍵\n"
      ],
      "metadata": {
        "id": "giVMMlykFm02"
      }
    },
    {
      "cell_type": "markdown",
      "source": [
        "##Analisando resultados no Tracer\n",
        "Você pode abrir o tracer chamando apenas o comando no seu terminal:\n",
        "\n",
        "```\n",
        "tracer\n",
        "```\n",
        "\n",
        "Uma vez que a interface gráfica está aberta, você pode clicar no botão de \"+\" logo abaixo de tracefiles para abrir o arquivo apes.log gerado pela análise do beast. Esse arquivo contém a informação sobre todos os pontos de amostragem dentro da cadeia do algorítmo MCMC, nós vamos usar essa informação pra checar a convergência nos parâmetros estimados. De modo geral, uma boa convergência é representada por um ESS>200 para a grande maioria dos parâmetros.\n",
        "\n",
        "Apenas quando o algorítmo convergir é que podemos utilizar esses parâmetros para construir nossa árvore, caso alguma análise sua ainda não tenha atingido a convergência, você pode editar o arquivo xml para aumentar o número de iterações do algorítmo e o Beast salva um arquivo com terminação.state que contém as informações necessárias para seguir a partir do último checkpoint.\n",
        "\n",
        "<image src='https://drive.google.com/uc?id=16jOUaJqX21MepPYcCslHUEQraR5n9BD1'>"
      ],
      "metadata": {
        "id": "02GJF5oMF3KY"
      }
    },
    {
      "cell_type": "markdown",
      "source": [
        "## Anotando as árvores amostradas durante a cadeia MCMC\n",
        "\n",
        "Abra o treeannotator no seu terminal usando o comando:\n",
        "\n",
        "```\n",
        "treeannotator\n",
        "```\n",
        "\n",
        "Como entrada você deve utilizar o arquivo .trees gerado pela análise do Beast, para fins de padronização, você pode utilizar o mesmo nome com a terminação .tree como output.\n",
        "\n",
        "Lembre-se de utilizar a porcentagem de burnin igual a 10!! É necessário descartar as primeiras árvores por que o algorítmo estava variando muito os parâmetros em direção à convergência.\n",
        "\n",
        "\n",
        "\n",
        "<image src='https://drive.google.com/uc?id=1v8IVqfDxR28ibBwHQFEVsSbGVT2rI6Qe'>"
      ],
      "metadata": {
        "id": "njuPxyyeF9GK"
      }
    },
    {
      "cell_type": "markdown",
      "source": [
        "##Visualizando árvore no figtree\n",
        "Pode chamar o comando do figtree na linha de comando para chamar a interface gráfica:\n",
        "\n",
        "```\n",
        "figtree\n",
        "```\n",
        "\n",
        "Inicialmente vamos abrir o arquivo .tree gerado pelo treeannotator:\n",
        "<image src='https://drive.google.com/uc?id=1go4YCBuQsNXodoMU4_3rOjSplZzxMh3m'>\n",
        "\n",
        "Agora podemos analisar a árvore final gerada pela inferência bayesiana. Tente marcar a caixa de node labels e configurar o display para \"posterior\", dessa forma conseguimos identificar a probabilidade posterior de cada nó da árvore.\n",
        "<image src='https://drive.google.com/uc?id=1ApB3QfB7H2reYF13fVC4nRq8fca5jvQ_'>"
      ],
      "metadata": {
        "id": "yvkhlMtjGhs9"
      }
    },
    {
      "cell_type": "markdown",
      "source": [
        "#Algumas questões...\n",
        "\n",
        "1- As topologias encontradas pelo iqtree e pelo beast contam uma história evolutiva similar?\n",
        "\n",
        "2- As árvores encontradas definem a evolução dessas espécies?\n",
        "\n",
        "3- Qual você acha que seria uma forma de tentar resolver a relação evolutiva dessas espécies?"
      ],
      "metadata": {
        "id": "ha1n6ko1yMmY"
      }
    },
    {
      "cell_type": "markdown",
      "source": [
        "# Referências"
      ],
      "metadata": {
        "id": "OeRplLZleObK"
      }
    },
    {
      "cell_type": "markdown",
      "source": [
        "Bouckaert, R., Heled, J., Kühnert, D., Vaughan, T., Wu, C.-H., Xie, D., Suchard, M. A., Rambaut, A., & Drummond, A. J. (2014). BEAST 2: A Software Platform for Bayesian Evolutionary Analysis. PLOS Computational Biology, 10(4), e1003537. https://doi.org/10.1371/journal.pcbi.1003537\n",
        "\n",
        "Lemey, P., Salemi, M., & Vandamme, A.-M. (Eds.). (2009). The Phylogenetic Handbook: A Practical Approach to Phylogenetic Analysis and Hypothesis Testing (2nd ed.). Cambridge University Press.\n",
        "\n",
        "Nguyen, L.-T., Schmidt, H. A., von Haeseler, A., & Minh, B. Q. (2015). IQ-TREE: A Fast and Effective Stochastic Algorithm for Estimating Maximum-Likelihood Phylogenies. Molecular Biology and Evolution, 32(1), 268–274. https://doi.org/10.1093/molbev/msu300"
      ],
      "metadata": {
        "id": "2MFlI-Y1eSzK"
      }
    }
  ],
  "metadata": {
    "colab": {
      "provenance": [],
      "include_colab_link": true
    },
    "kernelspec": {
      "display_name": "Python 3",
      "name": "python3"
    },
    "language_info": {
      "name": "python"
    }
  },
  "nbformat": 4,
  "nbformat_minor": 0
}